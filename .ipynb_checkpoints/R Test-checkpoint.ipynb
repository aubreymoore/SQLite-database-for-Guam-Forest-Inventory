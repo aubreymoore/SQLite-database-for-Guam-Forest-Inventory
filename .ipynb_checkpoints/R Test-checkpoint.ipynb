{
 "cells": [
  {
   "cell_type": "code",
   "execution_count": 1,
   "metadata": {
    "collapsed": false
   },
   "outputs": [],
   "source": [
    "import readline\n",
    "from rpy2.robjects import r"
   ]
  },
  {
   "cell_type": "code",
   "execution_count": 2,
   "metadata": {
    "collapsed": false
   },
   "outputs": [
    {
     "name": "stderr",
     "output_type": "stream",
     "text": [
      "/home/aubreymoore/anaconda3/lib/python3.5/site-packages/rpy2/rinterface/__init__.py:186: RRuntimeWarning:  Package ‘exactRankTests’ is no longer under development.\n",
      " Please consider using package ‘coin’ instead.\n",
      "\n",
      "\n",
      "  warnings.warn(x, RRuntimeWarning)\n"
     ]
    },
    {
     "data": {
      "text/plain": [
       "R object with classes: ('htest',) mapped to:\n",
       "<ListVector - Python:0x7f31d2722988 / R:0x223c500>\n",
       "[Float..., Float..., Float..., ..., StrVe..., StrVe..., StrVe...]\n",
       "  statistic: <class 'rpy2.robjects.vectors.FloatVector'>\n",
       "  R object with classes: ('numeric',) mapped to:\n",
       "<FloatVector - Python:0x7f31c3c71bc8 / R:0x1d95498>\n",
       "[35.000000]\n",
       "  pointprob: <class 'rpy2.robjects.vectors.FloatVector'>\n",
       "  R object with classes: ('numeric',) mapped to:\n",
       "<FloatVector - Python:0x7f31c3c74088 / R:0x23b0d58>\n",
       "[0.023976]\n",
       "  p.value: <class 'rpy2.robjects.vectors.FloatVector'>\n",
       "  R object with classes: ('numeric',) mapped to:\n",
       "<FloatVector - Python:0x7f31c3c74588 / R:0x27b0248>\n",
       "[0.127206]\n",
       "  ...\n",
       "  statistic: <class 'rpy2.robjects.vectors.StrVector'>\n",
       "  R object with classes: ('character',) mapped to:\n",
       "<StrVector - Python:0x7f31c3c74a48 / R:0x2c19248>\n",
       "['greater']\n",
       "  pointprob: <class 'rpy2.robjects.vectors.StrVector'>\n",
       "  R object with classes: ('character',) mapped to:\n",
       "<StrVector - Python:0x7f31c3c74cc8 / R:0x2c31218>\n",
       "['Exact Wilcoxon rank sum test']\n",
       "  p.value: <class 'rpy2.robjects.vectors.StrVector'>\n",
       "  R object with classes: ('character',) mapped to:\n",
       "<StrVector - Python:0x7f31c3c74b88 / R:0x2c24e98>\n",
       "['x and y']"
      ]
     },
     "execution_count": 2,
     "metadata": {},
     "output_type": "execute_result"
    }
   ],
   "source": [
    "r_script = '''\n",
    "library(exactRankTests)\n",
    "x <- c(0.80, 0.83, 1.89, 1.04, 1.45, 1.38, 1.91, 1.64, 0.73, 1.46)\n",
    "y <- c(1.15, 0.88, 0.90, 0.74, 1.21)\n",
    "wilcox.exact(x, y, alternative = \"g\")       # greater\n",
    "'''\n",
    "r(r_script)"
   ]
  },
  {
   "cell_type": "code",
   "execution_count": null,
   "metadata": {
    "collapsed": true
   },
   "outputs": [],
   "source": []
  }
 ],
 "metadata": {
  "kernelspec": {
   "display_name": "Python 3",
   "language": "python",
   "name": "python3"
  },
  "language_info": {
   "codemirror_mode": {
    "name": "ipython",
    "version": 3
   },
   "file_extension": ".py",
   "mimetype": "text/x-python",
   "name": "python",
   "nbconvert_exporter": "python",
   "pygments_lexer": "ipython3",
   "version": "3.5.2"
  }
 },
 "nbformat": 4,
 "nbformat_minor": 0
}
