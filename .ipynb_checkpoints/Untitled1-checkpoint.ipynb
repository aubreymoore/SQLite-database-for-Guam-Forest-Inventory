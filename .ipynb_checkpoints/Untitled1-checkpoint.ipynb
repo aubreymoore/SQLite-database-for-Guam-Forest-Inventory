{
 "cells": [
  {
   "cell_type": "code",
   "execution_count": 1,
   "metadata": {
    "collapsed": true
   },
   "outputs": [],
   "source": [
    "import pandas\n",
    "import readline\n",
    "from rpy2 import robjects\n",
    "from rpy2.robjects import pandas2ri\n",
    "from rpy2.robjects.packages import importr\n",
    "from rpy2.robjects import Formula"
   ]
  },
  {
   "cell_type": "code",
   "execution_count": 44,
   "metadata": {
    "collapsed": false
   },
   "outputs": [
    {
     "name": "stdout",
     "output_type": "stream",
     "text": [
      "\n",
      "\tAsymptotic Wilcoxon-Pratt Signed-Rank Test\n",
      "\n",
      "data:  y by x (pos, neg) \n",
      "\t stratified by block\n",
      "Z = -1.914, p-value = 0.05561\n",
      "alternative hypothesis: true mu is not equal to 0\n",
      "\n",
      "\n"
     ]
    }
   ],
   "source": [
    "dataframe = pandas.DataFrame({'x': [11,12,3,14,5], \n",
    "                              'y': [2,1,3,5,4]})\n",
    "coin = importr('coin')\n",
    "base = importr('base')\n",
    "\n",
    "pandas2ri.activate()\n",
    "robjects.globalenv['dataframe'] = dataframe\n",
    "result = coin.wilcoxsign_test(Formula('y~x'), data=base.as_symbol('dataframe'))\n",
    "print(result)"
   ]
  },
  {
   "cell_type": "code",
   "execution_count": 65,
   "metadata": {
    "collapsed": false
   },
   "outputs": [],
   "source": [
    "def extract_p_value(result):\n",
    "    import re\n",
    "    s = str(result)\n",
    "    p = re.compile('p-value = (\\d+\\.\\d+)')\n",
    "    m = p.findall(s)\n",
    "    return float(m[0])"
   ]
  },
  {
   "cell_type": "code",
   "execution_count": 66,
   "metadata": {
    "collapsed": false
   },
   "outputs": [
    {
     "data": {
      "text/plain": [
       "0.05561"
      ]
     },
     "execution_count": 66,
     "metadata": {},
     "output_type": "execute_result"
    }
   ],
   "source": [
    "extract_p_value(result)"
   ]
  },
  {
   "cell_type": "code",
   "execution_count": 1,
   "metadata": {
    "collapsed": false
   },
   "outputs": [
    {
     "ename": "SyntaxError",
     "evalue": "invalid syntax (<ipython-input-1-c91fd3d8748a>, line 2)",
     "output_type": "error",
     "traceback": [
      "\u001b[1;36m  File \u001b[1;32m\"<ipython-input-1-c91fd3d8748a>\"\u001b[1;36m, line \u001b[1;32m2\u001b[0m\n\u001b[1;33m    print re.sub (' [u|U][s,.,?,!,W,#,@ (^a-zA-Z)]', ' you ', text)\u001b[0m\n\u001b[1;37m           ^\u001b[0m\n\u001b[1;31mSyntaxError\u001b[0m\u001b[1;31m:\u001b[0m invalid syntax\n"
     ]
    }
   ],
   "source": []
  },
  {
   "cell_type": "code",
   "execution_count": null,
   "metadata": {
    "collapsed": true
   },
   "outputs": [],
   "source": []
  }
 ],
 "metadata": {
  "kernelspec": {
   "display_name": "Python 3",
   "language": "python",
   "name": "python3"
  },
  "language_info": {
   "codemirror_mode": {
    "name": "ipython",
    "version": 3
   },
   "file_extension": ".py",
   "mimetype": "text/x-python",
   "name": "python",
   "nbconvert_exporter": "python",
   "pygments_lexer": "ipython3",
   "version": "3.5.2"
  }
 },
 "nbformat": 4,
 "nbformat_minor": 0
}
